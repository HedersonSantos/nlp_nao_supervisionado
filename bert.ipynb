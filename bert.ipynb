{
  "nbformat": 4,
  "nbformat_minor": 0,
  "metadata": {
    "colab": {
      "provenance": [],
      "gpuType": "T4",
      "authorship_tag": "ABX9TyPEa0W5iEY3Yk+quq812pci",
      "include_colab_link": true
    },
    "kernelspec": {
      "name": "python3",
      "display_name": "Python 3"
    },
    "language_info": {
      "name": "python"
    },
    "accelerator": "GPU"
  },
  "cells": [
    {
      "cell_type": "markdown",
      "metadata": {
        "id": "view-in-github",
        "colab_type": "text"
      },
      "source": [
        "<a href=\"https://colab.research.google.com/github/HedersonSantos/nlp_nao_supervisionado/blob/main/bert.ipynb\" target=\"_parent\"><img src=\"https://colab.research.google.com/assets/colab-badge.svg\" alt=\"Open In Colab\"/></a>"
      ]
    },
    {
      "cell_type": "code",
      "execution_count": 1,
      "metadata": {
        "colab": {
          "base_uri": "https://localhost:8080/"
        },
        "id": "9fULk4eHJyrr",
        "outputId": "476ab39d-533d-44a4-aab5-fd287a68769f"
      },
      "outputs": [
        {
          "output_type": "stream",
          "name": "stdout",
          "text": [
            "Requirement already satisfied: transformers[torch] in /usr/local/lib/python3.10/dist-packages (4.41.2)\n",
            "Requirement already satisfied: filelock in /usr/local/lib/python3.10/dist-packages (from transformers[torch]) (3.14.0)\n",
            "Requirement already satisfied: huggingface-hub<1.0,>=0.23.0 in /usr/local/lib/python3.10/dist-packages (from transformers[torch]) (0.23.3)\n",
            "Requirement already satisfied: numpy>=1.17 in /usr/local/lib/python3.10/dist-packages (from transformers[torch]) (1.25.2)\n",
            "Requirement already satisfied: packaging>=20.0 in /usr/local/lib/python3.10/dist-packages (from transformers[torch]) (24.1)\n",
            "Requirement already satisfied: pyyaml>=5.1 in /usr/local/lib/python3.10/dist-packages (from transformers[torch]) (6.0.1)\n",
            "Requirement already satisfied: regex!=2019.12.17 in /usr/local/lib/python3.10/dist-packages (from transformers[torch]) (2024.5.15)\n",
            "Requirement already satisfied: requests in /usr/local/lib/python3.10/dist-packages (from transformers[torch]) (2.31.0)\n",
            "Requirement already satisfied: tokenizers<0.20,>=0.19 in /usr/local/lib/python3.10/dist-packages (from transformers[torch]) (0.19.1)\n",
            "Requirement already satisfied: safetensors>=0.4.1 in /usr/local/lib/python3.10/dist-packages (from transformers[torch]) (0.4.3)\n",
            "Requirement already satisfied: tqdm>=4.27 in /usr/local/lib/python3.10/dist-packages (from transformers[torch]) (4.66.4)\n",
            "Requirement already satisfied: torch in /usr/local/lib/python3.10/dist-packages (from transformers[torch]) (2.3.0+cu121)\n",
            "Collecting accelerate>=0.21.0 (from transformers[torch])\n",
            "  Downloading accelerate-0.31.0-py3-none-any.whl (309 kB)\n",
            "\u001b[2K     \u001b[90m━━━━━━━━━━━━━━━━━━━━━━━━━━━━━━━━━━━━━━━━\u001b[0m \u001b[32m309.4/309.4 kB\u001b[0m \u001b[31m3.6 MB/s\u001b[0m eta \u001b[36m0:00:00\u001b[0m\n",
            "\u001b[?25hRequirement already satisfied: psutil in /usr/local/lib/python3.10/dist-packages (from accelerate>=0.21.0->transformers[torch]) (5.9.5)\n",
            "Requirement already satisfied: fsspec>=2023.5.0 in /usr/local/lib/python3.10/dist-packages (from huggingface-hub<1.0,>=0.23.0->transformers[torch]) (2023.6.0)\n",
            "Requirement already satisfied: typing-extensions>=3.7.4.3 in /usr/local/lib/python3.10/dist-packages (from huggingface-hub<1.0,>=0.23.0->transformers[torch]) (4.12.2)\n",
            "Requirement already satisfied: sympy in /usr/local/lib/python3.10/dist-packages (from torch->transformers[torch]) (1.12.1)\n",
            "Requirement already satisfied: networkx in /usr/local/lib/python3.10/dist-packages (from torch->transformers[torch]) (3.3)\n",
            "Requirement already satisfied: jinja2 in /usr/local/lib/python3.10/dist-packages (from torch->transformers[torch]) (3.1.4)\n",
            "Collecting nvidia-cuda-nvrtc-cu12==12.1.105 (from torch->transformers[torch])\n",
            "  Using cached nvidia_cuda_nvrtc_cu12-12.1.105-py3-none-manylinux1_x86_64.whl (23.7 MB)\n",
            "Collecting nvidia-cuda-runtime-cu12==12.1.105 (from torch->transformers[torch])\n",
            "  Using cached nvidia_cuda_runtime_cu12-12.1.105-py3-none-manylinux1_x86_64.whl (823 kB)\n",
            "Collecting nvidia-cuda-cupti-cu12==12.1.105 (from torch->transformers[torch])\n",
            "  Using cached nvidia_cuda_cupti_cu12-12.1.105-py3-none-manylinux1_x86_64.whl (14.1 MB)\n",
            "Collecting nvidia-cudnn-cu12==8.9.2.26 (from torch->transformers[torch])\n",
            "  Using cached nvidia_cudnn_cu12-8.9.2.26-py3-none-manylinux1_x86_64.whl (731.7 MB)\n",
            "Collecting nvidia-cublas-cu12==12.1.3.1 (from torch->transformers[torch])\n",
            "  Using cached nvidia_cublas_cu12-12.1.3.1-py3-none-manylinux1_x86_64.whl (410.6 MB)\n",
            "Collecting nvidia-cufft-cu12==11.0.2.54 (from torch->transformers[torch])\n",
            "  Using cached nvidia_cufft_cu12-11.0.2.54-py3-none-manylinux1_x86_64.whl (121.6 MB)\n",
            "Collecting nvidia-curand-cu12==10.3.2.106 (from torch->transformers[torch])\n",
            "  Using cached nvidia_curand_cu12-10.3.2.106-py3-none-manylinux1_x86_64.whl (56.5 MB)\n",
            "Collecting nvidia-cusolver-cu12==11.4.5.107 (from torch->transformers[torch])\n",
            "  Using cached nvidia_cusolver_cu12-11.4.5.107-py3-none-manylinux1_x86_64.whl (124.2 MB)\n",
            "Collecting nvidia-cusparse-cu12==12.1.0.106 (from torch->transformers[torch])\n",
            "  Using cached nvidia_cusparse_cu12-12.1.0.106-py3-none-manylinux1_x86_64.whl (196.0 MB)\n",
            "Collecting nvidia-nccl-cu12==2.20.5 (from torch->transformers[torch])\n",
            "  Using cached nvidia_nccl_cu12-2.20.5-py3-none-manylinux2014_x86_64.whl (176.2 MB)\n",
            "Collecting nvidia-nvtx-cu12==12.1.105 (from torch->transformers[torch])\n",
            "  Using cached nvidia_nvtx_cu12-12.1.105-py3-none-manylinux1_x86_64.whl (99 kB)\n",
            "Requirement already satisfied: triton==2.3.0 in /usr/local/lib/python3.10/dist-packages (from torch->transformers[torch]) (2.3.0)\n",
            "Collecting nvidia-nvjitlink-cu12 (from nvidia-cusolver-cu12==11.4.5.107->torch->transformers[torch])\n",
            "  Downloading nvidia_nvjitlink_cu12-12.5.40-py3-none-manylinux2014_x86_64.whl (21.3 MB)\n",
            "\u001b[2K     \u001b[90m━━━━━━━━━━━━━━━━━━━━━━━━━━━━━━━━━━━━━━━━\u001b[0m \u001b[32m21.3/21.3 MB\u001b[0m \u001b[31m37.7 MB/s\u001b[0m eta \u001b[36m0:00:00\u001b[0m\n",
            "\u001b[?25hRequirement already satisfied: charset-normalizer<4,>=2 in /usr/local/lib/python3.10/dist-packages (from requests->transformers[torch]) (3.3.2)\n",
            "Requirement already satisfied: idna<4,>=2.5 in /usr/local/lib/python3.10/dist-packages (from requests->transformers[torch]) (3.7)\n",
            "Requirement already satisfied: urllib3<3,>=1.21.1 in /usr/local/lib/python3.10/dist-packages (from requests->transformers[torch]) (2.0.7)\n",
            "Requirement already satisfied: certifi>=2017.4.17 in /usr/local/lib/python3.10/dist-packages (from requests->transformers[torch]) (2024.6.2)\n",
            "Requirement already satisfied: MarkupSafe>=2.0 in /usr/local/lib/python3.10/dist-packages (from jinja2->torch->transformers[torch]) (2.1.5)\n",
            "Requirement already satisfied: mpmath<1.4.0,>=1.1.0 in /usr/local/lib/python3.10/dist-packages (from sympy->torch->transformers[torch]) (1.3.0)\n",
            "Installing collected packages: nvidia-nvtx-cu12, nvidia-nvjitlink-cu12, nvidia-nccl-cu12, nvidia-curand-cu12, nvidia-cufft-cu12, nvidia-cuda-runtime-cu12, nvidia-cuda-nvrtc-cu12, nvidia-cuda-cupti-cu12, nvidia-cublas-cu12, nvidia-cusparse-cu12, nvidia-cudnn-cu12, nvidia-cusolver-cu12, accelerate\n",
            "Successfully installed accelerate-0.31.0 nvidia-cublas-cu12-12.1.3.1 nvidia-cuda-cupti-cu12-12.1.105 nvidia-cuda-nvrtc-cu12-12.1.105 nvidia-cuda-runtime-cu12-12.1.105 nvidia-cudnn-cu12-8.9.2.26 nvidia-cufft-cu12-11.0.2.54 nvidia-curand-cu12-10.3.2.106 nvidia-cusolver-cu12-11.4.5.107 nvidia-cusparse-cu12-12.1.0.106 nvidia-nccl-cu12-2.20.5 nvidia-nvjitlink-cu12-12.5.40 nvidia-nvtx-cu12-12.1.105\n"
          ]
        }
      ],
      "source": [
        "#!pip install torch transformers\n",
        "!pip install transformers[torch]"
      ]
    },
    {
      "cell_type": "code",
      "source": [
        "from transformers import BertLMHeadModel, Trainer, TrainingArguments\n",
        "from torch.utils.data import Dataset, DataLoader\n",
        "from transformers import BertTokenizer\n",
        "import torch"
      ],
      "metadata": {
        "id": "7VV4hysPNLwK"
      },
      "execution_count": 2,
      "outputs": []
    },
    {
      "cell_type": "code",
      "source": [
        "textos = ['''Correios Log+\n",
        "O serviço Correios Log+ suporta operações logísticas completas, com armazenagem, atendimento de pedidos e integração aos demais serviços de entrega e logística reversa dos Correios.\n",
        "Também chamado de fulfillment, é destinado às empresas que atuam na venda de produtos para os mercados nacional e internacional, que poderão contar com um único operador logístico capaz de fornecer todo suporte necessário e reconhecido pela sua liderança no mercado de entregas.\n",
        "Empresas que atuam (ou desejam atuar) no comércio eletrônico por meio de site próprio ou marketplaces podem contratar o serviço Correios Log+.\n",
        "É por meio da formalização de parceria com os Correios, através da celebração do contrato comercial ou inclusão do serviço no contrato já existente, que os clientes poderão iniciar suas operações no Correios Log.\n",
        "A contratação dos Correios poderá ser feita na internet, por meio do Correios Fácil, ou diretamente com os Assistentes Comerciais.\n",
        "Os Correios assumem as etapas mais onerosas do processo logístico no comércio eletrônico, que é a armazenagem e o manuseio, bem como a logística internacional, quando for o caso. Isso permite que as empresas ganhem celeridade no processo operacional ao transferir estas responsabilidades para um único operador logístico.\n",
        "Após incluir o serviço no contrato, analise quais são as localidades que melhor atendem suas necessidades.\n",
        "Para que o cliente possa armazenar os produtos nos Centros dos Correios, a legislação brasileira requer que o cliente crie uma filial (fiscal) em cada estado onde desejar realizar operação.\n",
        "Cidades onde o serviço será prestado:\n",
        "Brasília DF:\n",
        "Cajamar SP:\n",
        "Rio de Janeiro RJ:\n",
        "Contagem MG:\n",
        "Curitiba PR:\n",
        "Florianópolis SC:\n",
        "Fortaleza CE:\n",
        "Manaus AM:\n",
        "Porto Alegre RS:\n",
        "Recife PE:\n",
        "Salvador BA:\n",
        "Goiânia - GO;\n",
        "Ribeirão Preto - SP\n",
        "Para a execução do serviço Correios Log+, é preciso utilizar um sistema de ERP integrado aos Correios por meio das APIs do Correios Log+.\n",
        "Com a integração dos sistemas tecnológicos, os Correios recebem os pedidos, separam os produtos disponíveis em estoque, embalam e preparam para o envio, com impressão de etiquetas de postagens e documentos fiscais necessários conforme legislação vigente. ''',\n",
        "'''Emissão CPF\n",
        "O que é?\n",
        "É o serviço que permite ao cidadão solicitar CPF, alterar dados cadastrais e regularizar a situação do CPF suspenso nas agências dos Correios do país.\n",
        "Quem pode utilizar este serviço?\n",
        "Pessoas físicas e órgãos públicos com contrato a faturar com os Correios para atendimento aos cidadãos que não têm condições de pagar pelo serviço.\n",
        "Como funciona?\n",
        "Para brasileiros com idade dos 18 aos 69 anos: título de eleitor, alistamento eleitoral, protocolo de inscrição ou certidão da Justiça Eleitoral atestando a não obrigatoriedade do alistamento eleitoral), solicitar o serviço e pagar a taxa.\n",
        "Você sai da agência com o novo CPF e com as solicitações referentes ao serviço atendidas no mesmo instante.\n",
        "E para o menor de 16 anos, tutelado, curatelado ou outra pessoa sujeita à guarda judicial?\n",
        "A solicitação do CPF deverá ser feita pelo representante legal, que pode ser pai ou mãe, tutores, curadores ou responsáveis pela guarda judicial; Carteira de identidade ou certidão de nascimento que comprove a naturalidade, a filiação e a data de nascimento do menor, tutelado ou curatelado; e documentos que atestem a tutela, curatela ou responsabilidade pela guarda de incapaz ou interdito.\n",
        "E quem tiver entre 16 e 18 anos incompletos?\n",
        "São assistidos legalmente, podendo assinar por seus atos ou não. Há uma Instrução Normativa da Receita Federal que estabelece que nesses casos pai ou mãe poderão assinar pela solicitação do CPF.\n",
        "Se for estrangeiro?\n",
        "Poderá ser aceito como documento de identificação o que é admitido no seu país de origem. Também poderão ser apresentados o RNE (Registro Nacional de Estrangeiro), o passaporte, ou o protocolo do RNE acompanhado da tela de consulta impressa do SINCRE - Sistema Nacional de Estrangeiros, constando os dados cadastrais. Não é obrigatória a comprovação de filiação de estrangeiros.\n",
        "Veja o que fazer se for alterar ou regularizar os dados do CPF:\n",
        "É possível solicitar gratuitamente a correção dos dados do CPF em até 60 dias. Vá até uma agência dos Correios dentro desse prazo e formalize a alteração;\n",
        "• Se você casou e quer alterar seu nome, deve apresentar a certidão de casamento, mas se for fazer a comprovação da data de nascimento basta apresentar a carteira de identidade;\n",
        "• Para solicitar alteração de endereço não é preciso apresentar comprovante de residência;\n",
        "• Os brasileiros ou estrangeiros que moram em outro país ou aqueles residentes no Brasil que estejam em viagem ao exterior podem solicitar alteração de dados cadastrais;\n",
        "• Quem estiver com a situação cadastral \"pendente de regularização\" ou \"suspensa\" precisa fazer a regularização mesmo que não tenha sido obrigado a entregar a Declaração do Imposto de Renda nos últimos cinco anos.\n",
        "Quanto custa?\n",
        "R$7,00 (sete reais)''',\n",
        "'''Tipo de Atendimento:\n",
        "Conclusivo: é o atendimento realizado exclusivamente pelos Correios, sem a necessidade do cliente comparecer à unidade local da Secretaria Receita Federal do Brasil.\n",
        "Não conclusivo: é o atendimento realizado inicialmente nos Correios e concluído pela Secretaria Receita Federal do Brasil. Os clientes enquadrados em uma das situações específicas, relacionadas a seguir, receberão Atendimento Não Conclusivo:\n",
        "a) Pessoas com idade igual ou superior a 25 (vinte cinco) anos;\n",
        "b) Homônimo Perfeito;\n",
        "c) Nome mãe = \"mãe desconhecida\" ou em branco;\n",
        "d) Data nascimento não oficial: pessoa com data de nascimento inválida registrada na documentação oficial;\n",
        "e) Nome contribuinte inválido: pessoa registrada com apenas o prenome, sem sobrenome, com nome com mais de quinze partes, abreviado, com caracteres não válidos;\n",
        "f) Nome mãe inválido: pessoa registrada com nome da mãe com apenas o prenome, sem sobrenome, com nome com mais de quinze partes, abreviado, com caracteres não válidos;\n",
        "g) Título de Eleitor já utilizado por outro CPF;\n",
        "h) CPF não encontrado na base ou (para inclusão) não pertence à faixa MIA (Modelo de inscrição e Atualização);\n",
        "i) Título de Eleitor não informado, mas informado motivo de ausência;\n",
        "j) Município de naturalidade = 9707 e sem indicativo de estrangeiro na base CPF;\n",
        "k) CPF em situação cadastral cancelada ou nula;\n",
        "l) CPF de responsável legal inválido, não encontrado na base CPF ou na situação cancelada ou nula;\n",
        "m) Título de Eleitor diverge da base;\n",
        "n) Nome e/ou nascimento diverge com a base RFB;\n",
        "o) Nome da mãe não pode ser alterado (mãe desconhecida, em branco, divergente da base TSE) e/ou Sexo não pode ser alterado.\n",
        "Impeditivo: é aquele que apresenta alguma inconsistência no atendimento, não permitindo a finalização do atendimento. Os clientes enquadrados em uma das situações específicas, relacionadas a seguir, receberão Atendimento Impeditivo:\n",
        "a) Solicita o serviço de correção, mas a última operação no CPF não é da conveniada solicitante. (Essa situação irá ocorrer se uma pessoa solicitar um serviço (Inscrição ou Alteração) nos agentes conveniados Banco do Brasil - BB ou Caixa Econômica Federal - CEF e depois pedir a correção nos Correios;\n",
        "b) Solicita alteração, mas os dados informados estão iguais aos da base CPF;\n",
        "c) Solicita correção cadastral, mas os dados informados estão iguais aos da base\n",
        "CPF; d) Solicita regularização, mas o CPF já está regular;\n",
        "e) Solicita regularização, mas CPF consta como omisso de DIRPF. ''']"
      ],
      "metadata": {
        "id": "JJHcY3HWKgzq"
      },
      "execution_count": 3,
      "outputs": []
    },
    {
      "cell_type": "code",
      "source": [
        "for t in textos:\n",
        "  print(len(t.split(' ')))"
      ],
      "metadata": {
        "colab": {
          "base_uri": "https://localhost:8080/"
        },
        "id": "Juj6ygehQc26",
        "outputId": "21c58071-567b-4b07-92c4-c8c8907a9a43"
      },
      "execution_count": 20,
      "outputs": [
        {
          "output_type": "stream",
          "name": "stdout",
          "text": [
            "315\n",
            "424\n",
            "369\n"
          ]
        }
      ]
    },
    {
      "cell_type": "code",
      "source": [
        "class textoDataset(Dataset):\n",
        "    def __init__(self, texts, tokenizer):\n",
        "        self.encodings = tokenizer(texts, truncation=True, padding=True)\n",
        "\n",
        "    def __len__(self):\n",
        "        return len(self.encodings['input_ids'])\n",
        "\n",
        "    def __getitem__(self, idx):\n",
        "        item = {key: torch.tensor(val[idx]) for key, val in self.encodings.items()}\n",
        "        # Definimos labels como input_ids para Language Modeling\n",
        "        item['labels'] = item['input_ids'].clone()\n",
        "        return item"
      ],
      "metadata": {
        "id": "1dYgkBJGNFWy"
      },
      "execution_count": 37,
      "outputs": []
    },
    {
      "cell_type": "code",
      "source": [
        "tokenizer = BertTokenizer.from_pretrained('bert-base-uncased')"
      ],
      "metadata": {
        "id": "pTD4nzkkW3Mk"
      },
      "execution_count": 38,
      "outputs": []
    },
    {
      "cell_type": "code",
      "source": [
        "# Tokenização dos textos\n",
        "# Dataset e DataLoader\n",
        "dataset = textoDataset(textos, tokenizer)\n",
        "train_loader = DataLoader(dataset, batch_size=4, shuffle=True)"
      ],
      "metadata": {
        "id": "dCftT4sFQwNq"
      },
      "execution_count": 39,
      "outputs": []
    },
    {
      "cell_type": "code",
      "source": [
        "model = BertLMHeadModel.from_pretrained('bert-base-uncased')"
      ],
      "metadata": {
        "colab": {
          "base_uri": "https://localhost:8080/"
        },
        "id": "bin2WWanR8Mz",
        "outputId": "600739aa-859e-42e4-f7bb-f772af7324de"
      },
      "execution_count": 40,
      "outputs": [
        {
          "output_type": "stream",
          "name": "stderr",
          "text": [
            "If you want to use `BertLMHeadModel` as a standalone, add `is_decoder=True.`\n"
          ]
        }
      ]
    },
    {
      "cell_type": "code",
      "source": [
        "training_args = TrainingArguments(\n",
        "    per_device_train_batch_size=4,\n",
        "    num_train_epochs=3,\n",
        "    logging_dir='./logs',\n",
        "    logging_steps=10,\n",
        "    save_steps=1000,\n",
        "    save_total_limit=2,\n",
        "    overwrite_output_dir=True,\n",
        "    output_dir='bert_saida'\n",
        "\n",
        ")\n",
        "#eval_strategy=\"epoch\""
      ],
      "metadata": {
        "id": "ZxWFSvyiP5jS"
      },
      "execution_count": 41,
      "outputs": []
    },
    {
      "cell_type": "code",
      "source": [
        "# Função para calcular o loss médio por época\n",
        "def compute_metrics(eval_pred):\n",
        "    predictions, labels = eval_pred\n",
        "    loss = predictions.loss.mean().item()\n",
        "    return {'loss': loss}"
      ],
      "metadata": {
        "id": "4AryD2DxX-w-"
      },
      "execution_count": 42,
      "outputs": []
    },
    {
      "cell_type": "code",
      "source": [
        "trainer = Trainer(\n",
        "    model=model,\n",
        "    args=training_args,\n",
        "    train_dataset=dataset\n",
        "\n",
        ")\n",
        "#compute_metrics=compute_metrics"
      ],
      "metadata": {
        "id": "-RRhjWY7RuPD"
      },
      "execution_count": 43,
      "outputs": []
    },
    {
      "cell_type": "code",
      "source": [
        "trainer.train()"
      ],
      "metadata": {
        "colab": {
          "base_uri": "https://localhost:8080/",
          "height": 110
        },
        "id": "czhIProZTgNr",
        "outputId": "ce2b7f76-fb7d-4c96-913a-d57eca0c354d"
      },
      "execution_count": 44,
      "outputs": [
        {
          "output_type": "display_data",
          "data": {
            "text/plain": [
              "<IPython.core.display.HTML object>"
            ],
            "text/html": [
              "\n",
              "    <div>\n",
              "      \n",
              "      <progress value='3' max='3' style='width:300px; height:20px; vertical-align: middle;'></progress>\n",
              "      [3/3 00:00, Epoch 3/3]\n",
              "    </div>\n",
              "    <table border=\"1\" class=\"dataframe\">\n",
              "  <thead>\n",
              " <tr style=\"text-align: left;\">\n",
              "      <th>Step</th>\n",
              "      <th>Training Loss</th>\n",
              "    </tr>\n",
              "  </thead>\n",
              "  <tbody>\n",
              "  </tbody>\n",
              "</table><p>"
            ]
          },
          "metadata": {}
        },
        {
          "output_type": "execute_result",
          "data": {
            "text/plain": [
              "TrainOutput(global_step=3, training_loss=11.2312380472819, metrics={'train_runtime': 1.6007, 'train_samples_per_second': 5.623, 'train_steps_per_second': 1.874, 'total_flos': 2368843315200.0, 'train_loss': 11.2312380472819, 'epoch': 3.0})"
            ]
          },
          "metadata": {},
          "execution_count": 44
        }
      ]
    },
    {
      "cell_type": "code",
      "source": [
        "from transformers import pipeline\n",
        "\n",
        "# Carrega o modelo ajustado para geração de texto\n",
        "model_path = \"./path_to_your_fine_tuned_model\"  # Atualize com o caminho correto\n",
        "model = BertForMaskedLM.from_pretrained(model_path)\n",
        "tokenizer = BertTokenizer.from_pretrained(model_path)\n",
        "\n",
        "# Cria um pipeline para geração de texto\n",
        "generator = pipeline('text-generation', model=model, tokenizer=tokenizer)\n",
        "\n",
        "# Exemplo de uso do modelo ajustado\n",
        "prompt = \"O que diz a norma sobre licenças médicas?\"\n",
        "generated_text = generator(prompt, max_length=100, num_return_sequences=1)\n",
        "\n",
        "print(generated_text)"
      ],
      "metadata": {
        "id": "3MIH6VObY7Qt"
      },
      "execution_count": null,
      "outputs": []
    }
  ]
}